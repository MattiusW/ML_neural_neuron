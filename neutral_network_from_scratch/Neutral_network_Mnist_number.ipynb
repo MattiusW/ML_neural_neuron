{
 "cells": [
  {
   "cell_type": "code",
   "execution_count": 137,
   "metadata": {},
   "outputs": [],
   "source": [
    "import numpy as np\n",
    "import pandas as pd\n",
    "from matplotlib import pyplot as plt"
   ]
  },
  {
   "cell_type": "code",
   "execution_count": 138,
   "metadata": {},
   "outputs": [],
   "source": [
    "data = pd.read_csv('data/mnist_train.csv')"
   ]
  },
  {
   "cell_type": "markdown",
   "metadata": {},
   "source": [
    "Wczytanie zbioru danych MNIST."
   ]
  },
  {
   "cell_type": "code",
   "execution_count": 139,
   "metadata": {},
   "outputs": [],
   "source": [
    "data = np.array(data)\n",
    "m, n = data.shape\n",
    "np.random.shuffle(data)\n",
    "\n",
    "data_dev = data[0:1000].T\n",
    "Y_dev = data_dev[0]\n",
    "X_dev = data_dev[1:n]\n",
    "X_dev = X_dev / 255.\n",
    "\n",
    "data_train = data[1000:m].T\n",
    "Y_train = data_train[0]\n",
    "X_train = data_train[1:n]\n",
    "X_train = X_train / 255.\n",
    "_,m_train = X_train.shape"
   ]
  },
  {
   "cell_type": "markdown",
   "metadata": {},
   "source": [
    "Przemieszanie i podzielenie danych wejściowych na zestaw walidacyjny oraz treningowy."
   ]
  },
  {
   "cell_type": "code",
   "execution_count": 140,
   "metadata": {},
   "outputs": [
    {
     "data": {
      "text/plain": [
       "(784,)"
      ]
     },
     "execution_count": 140,
     "metadata": {},
     "output_type": "execute_result"
    }
   ],
   "source": [
    "X_train[:, 0].shape"
   ]
  },
  {
   "cell_type": "code",
   "execution_count": 141,
   "metadata": {},
   "outputs": [],
   "source": [
    "def init_params():\n",
    "    W1 = np.random.rand(10, 784) - 0.5\n",
    "    b1 = np.random.rand(10, 1) - 0.5\n",
    "    W2 = np.random.rand(10, 10) - 0.5\n",
    "    b2 = np.random.rand(10, 1) - 0.5\n",
    "\n",
    "    return W1, b1, W2, b2\n",
    "\n",
    "def ReLU(Z):\n",
    "    return np.maximum(0, Z)\n",
    "\n",
    "def softmax(Z):\n",
    "    A = np.exp(Z) / sum(np.exp(Z))\n",
    "    return A\n",
    "\n",
    "def forward_prop(W1, b1, W2, b2, X):\n",
    "    Z1 = W1.dot(X) + b1\n",
    "    A1 = ReLU(Z1)\n",
    "    Z2 = W2.dot(A1) + b2\n",
    "    A2 = softmax(Z2)\n",
    "\n",
    "    return Z1, A1, Z2, A2\n",
    "\n",
    "def one_hot(Y):\n",
    "    one_hot_Y = np.zeros((Y.size, Y.max() + 1))\n",
    "    one_hot_Y[np.arange(Y.size), Y] = 1\n",
    "    one_hot_Y = one_hot_Y.T\n",
    "    return one_hot_Y\n",
    "\n",
    "def deriv_ReLu(Z):\n",
    "    return Z > 0\n",
    "\n",
    "def backward_prop(Z1, A1, Z2, A2, W1, W2, X, Y):\n",
    "    one_hot_Y = one_hot(Y)\n",
    "    dZ2 = A2 - one_hot_Y\n",
    "    dW2 = 1 / m * dZ2.dot(A1.T)\n",
    "    db2 = 1 / m * np.sum(dZ2)\n",
    "    dZ1 = W2.T.dot(dZ2) * deriv_ReLu(Z1)\n",
    "    dW1 = 1 / m * dZ1.dot(X.T)\n",
    "    db1 = 1 / m * np.sum(dZ1)\n",
    "\n",
    "    return dW1, db1, dW2, db2\n",
    "\n",
    "def update_params(W1, b1, W2, b2, dW1, db1, dW2, db2, alpha):\n",
    "    W1 = W1 - alpha * dW1\n",
    "    b1 = b1 - alpha * db1\n",
    "    W2 = W2 - alpha * dW2\n",
    "    b2 = b2 - alpha * db2\n",
    "\n",
    "    return W1, b1, W2, b2"
   ]
  },
  {
   "cell_type": "markdown",
   "metadata": {},
   "source": [
    "Algorytm sieci neuronowych zawierający inicjalizacje parametrów, propagację w przód, one-hot encoding etykiet i propagację wstecz i aktualizacje wag."
   ]
  },
  {
   "cell_type": "code",
   "execution_count": 142,
   "metadata": {},
   "outputs": [],
   "source": [
    "def get_predictions(A2):\n",
    "    return np.argmax(A2, 0)\n",
    "\n",
    "def get_accuracy(predictions, Y):\n",
    "    print(predictions, Y)\n",
    "    return np.sum(predictions == Y) / Y.size\n",
    "\n",
    "def gradient_descent(X, Y, alpha, iterations):\n",
    "    W1, b1, W2, b2 = init_params()\n",
    "    for i in range(iterations):\n",
    "        Z1, A1, Z2, A2 = forward_prop(W1, b1, W2, b2, X)\n",
    "        dW1, db1, dW2, db2 = backward_prop(Z1, A1, Z2, A2, W1, W2, X, Y)\n",
    "        W1, b1, W2, b2 = update_params(W1, b1, W2, b2, dW1, db1, dW2, db2, alpha)\n",
    "        if i % 10 == 0:\n",
    "            print(\"Iteration: \", i)\n",
    "            predictions = get_predictions(A2)\n",
    "            print(get_accuracy(predictions, Y))\n",
    "    return W1, b1, W2, b2"
   ]
  },
  {
   "cell_type": "markdown",
   "metadata": {},
   "source": [
    "Trening modelu poprzez algorytm iteracji parametrów w celu zmiejszenia błedu poprawy przewidywań, uaktualniania parametrów oraz śledzenia postępów uczenia się oraz precyzji."
   ]
  },
  {
   "cell_type": "code",
   "execution_count": 143,
   "metadata": {},
   "outputs": [
    {
     "name": "stdout",
     "output_type": "stream",
     "text": [
      "Iteration:  0\n",
      "[9 1 9 ... 9 9 9] [6 3 0 ... 2 6 7]\n",
      "0.13845762711864407\n",
      "Iteration:  10\n",
      "[8 3 0 ... 8 9 8] [6 3 0 ... 2 6 7]\n",
      "0.21272881355932202\n",
      "Iteration:  20\n",
      "[8 3 0 ... 8 9 6] [6 3 0 ... 2 6 7]\n",
      "0.3426610169491525\n",
      "Iteration:  30\n",
      "[6 3 0 ... 8 9 6] [6 3 0 ... 2 6 7]\n",
      "0.43466101694915255\n",
      "Iteration:  40\n",
      "[6 3 0 ... 8 9 9] [6 3 0 ... 2 6 7]\n",
      "0.5018983050847458\n",
      "Iteration:  50\n",
      "[6 3 0 ... 2 9 9] [6 3 0 ... 2 6 7]\n",
      "0.5556101694915254\n",
      "Iteration:  60\n",
      "[6 3 0 ... 2 9 9] [6 3 0 ... 2 6 7]\n",
      "0.5987457627118644\n",
      "Iteration:  70\n",
      "[6 3 0 ... 2 9 9] [6 3 0 ... 2 6 7]\n",
      "0.6335762711864407\n",
      "Iteration:  80\n",
      "[6 3 0 ... 2 4 9] [6 3 0 ... 2 6 7]\n",
      "0.6618813559322034\n",
      "Iteration:  90\n",
      "[6 3 0 ... 2 4 9] [6 3 0 ... 2 6 7]\n",
      "0.6837118644067797\n",
      "Iteration:  100\n",
      "[6 3 0 ... 2 4 9] [6 3 0 ... 2 6 7]\n",
      "0.7007118644067797\n",
      "Iteration:  110\n",
      "[6 3 0 ... 2 4 9] [6 3 0 ... 2 6 7]\n",
      "0.7148474576271187\n",
      "Iteration:  120\n",
      "[6 3 0 ... 2 4 9] [6 3 0 ... 2 6 7]\n",
      "0.7271186440677966\n",
      "Iteration:  130\n",
      "[6 3 0 ... 2 4 9] [6 3 0 ... 2 6 7]\n",
      "0.7385084745762712\n",
      "Iteration:  140\n",
      "[6 3 0 ... 2 4 9] [6 3 0 ... 2 6 7]\n",
      "0.7473050847457627\n",
      "Iteration:  150\n",
      "[6 3 0 ... 2 4 9] [6 3 0 ... 2 6 7]\n",
      "0.7554237288135593\n",
      "Iteration:  160\n",
      "[6 3 0 ... 2 4 9] [6 3 0 ... 2 6 7]\n",
      "0.7628474576271187\n",
      "Iteration:  170\n",
      "[6 3 0 ... 2 4 9] [6 3 0 ... 2 6 7]\n",
      "0.7702033898305085\n",
      "Iteration:  180\n",
      "[6 3 0 ... 2 4 7] [6 3 0 ... 2 6 7]\n",
      "0.7764406779661017\n",
      "Iteration:  190\n",
      "[6 3 0 ... 2 4 7] [6 3 0 ... 2 6 7]\n",
      "0.782\n",
      "Iteration:  200\n",
      "[6 3 0 ... 2 4 7] [6 3 0 ... 2 6 7]\n",
      "0.7873728813559322\n",
      "Iteration:  210\n",
      "[6 3 0 ... 2 4 7] [6 3 0 ... 2 6 7]\n",
      "0.7925593220338983\n",
      "Iteration:  220\n",
      "[6 3 0 ... 2 4 7] [6 3 0 ... 2 6 7]\n",
      "0.7974237288135593\n",
      "Iteration:  230\n",
      "[6 3 0 ... 2 4 7] [6 3 0 ... 2 6 7]\n",
      "0.8021186440677966\n",
      "Iteration:  240\n",
      "[6 3 0 ... 2 4 7] [6 3 0 ... 2 6 7]\n",
      "0.805864406779661\n",
      "Iteration:  250\n",
      "[6 3 0 ... 2 4 7] [6 3 0 ... 2 6 7]\n",
      "0.8096949152542373\n",
      "Iteration:  260\n",
      "[6 3 0 ... 2 4 7] [6 3 0 ... 2 6 7]\n",
      "0.8127457627118644\n",
      "Iteration:  270\n",
      "[6 3 0 ... 2 4 7] [6 3 0 ... 2 6 7]\n",
      "0.8156440677966101\n",
      "Iteration:  280\n",
      "[6 3 0 ... 2 4 7] [6 3 0 ... 2 6 7]\n",
      "0.8189491525423729\n",
      "Iteration:  290\n",
      "[6 3 0 ... 2 4 7] [6 3 0 ... 2 6 7]\n",
      "0.8216949152542373\n",
      "Iteration:  300\n",
      "[6 3 0 ... 2 4 7] [6 3 0 ... 2 6 7]\n",
      "0.824677966101695\n",
      "Iteration:  310\n",
      "[6 3 0 ... 2 4 7] [6 3 0 ... 2 6 7]\n",
      "0.827457627118644\n",
      "Iteration:  320\n",
      "[6 3 0 ... 2 4 7] [6 3 0 ... 2 6 7]\n",
      "0.8301186440677966\n",
      "Iteration:  330\n",
      "[6 3 0 ... 2 4 7] [6 3 0 ... 2 6 7]\n",
      "0.8318474576271186\n",
      "Iteration:  340\n",
      "[6 3 0 ... 2 4 7] [6 3 0 ... 2 6 7]\n",
      "0.8339830508474576\n",
      "Iteration:  350\n",
      "[6 3 0 ... 2 4 7] [6 3 0 ... 2 6 7]\n",
      "0.8355932203389831\n",
      "Iteration:  360\n",
      "[6 3 0 ... 2 4 7] [6 3 0 ... 2 6 7]\n",
      "0.8377796610169491\n",
      "Iteration:  370\n",
      "[6 3 0 ... 2 4 7] [6 3 0 ... 2 6 7]\n",
      "0.8394406779661017\n",
      "Iteration:  380\n",
      "[6 3 0 ... 2 4 7] [6 3 0 ... 2 6 7]\n",
      "0.8411694915254238\n",
      "Iteration:  390\n",
      "[6 3 0 ... 2 4 7] [6 3 0 ... 2 6 7]\n",
      "0.8425254237288136\n",
      "Iteration:  400\n",
      "[6 3 0 ... 2 4 7] [6 3 0 ... 2 6 7]\n",
      "0.8440677966101695\n",
      "Iteration:  410\n",
      "[6 3 0 ... 2 4 7] [6 3 0 ... 2 6 7]\n",
      "0.8455932203389831\n",
      "Iteration:  420\n",
      "[6 3 0 ... 2 4 7] [6 3 0 ... 2 6 7]\n",
      "0.8469322033898306\n",
      "Iteration:  430\n",
      "[6 3 0 ... 2 4 7] [6 3 0 ... 2 6 7]\n",
      "0.8483050847457627\n",
      "Iteration:  440\n",
      "[6 3 0 ... 2 4 7] [6 3 0 ... 2 6 7]\n",
      "0.8493050847457627\n",
      "Iteration:  450\n",
      "[6 3 0 ... 2 4 7] [6 3 0 ... 2 6 7]\n",
      "0.8504745762711864\n",
      "Iteration:  460\n",
      "[6 3 0 ... 2 4 7] [6 3 0 ... 2 6 7]\n",
      "0.8515084745762712\n",
      "Iteration:  470\n",
      "[6 3 0 ... 2 4 7] [6 3 0 ... 2 6 7]\n",
      "0.8528305084745763\n",
      "Iteration:  480\n",
      "[6 3 0 ... 2 4 7] [6 3 0 ... 2 6 7]\n",
      "0.8538983050847457\n",
      "Iteration:  490\n",
      "[6 3 0 ... 2 4 7] [6 3 0 ... 2 6 7]\n",
      "0.8551694915254238\n"
     ]
    }
   ],
   "source": [
    "W1, b1, W2, b2 = gradient_descent(X_train, Y_train, 0.10, 500)"
   ]
  },
  {
   "cell_type": "code",
   "execution_count": 144,
   "metadata": {},
   "outputs": [],
   "source": [
    "def make_predictions(X, W1, b1, W2, b2):\n",
    "    _, _, _, A2 = forward_prop(W1, b1, W2, b2, X)\n",
    "    predictions = get_predictions(A2)\n",
    "    return predictions\n",
    "\n",
    "def test_prediction(index, W1, b1, W2, b2):\n",
    "    current_image = X_train[:, index, None]\n",
    "    prediction = make_predictions(X_train[:, index, None], W1, b1, W2, b2)\n",
    "    label = Y_train[index]\n",
    "    print(\"Prediction: \", prediction)\n",
    "    print(\"Label: \", label)\n",
    "    \n",
    "    current_image = current_image.reshape((28, 28)) * 255\n",
    "    plt.gray()\n",
    "    plt.imshow(current_image, interpolation='nearest')\n",
    "    plt.show()"
   ]
  },
  {
   "cell_type": "markdown",
   "metadata": {},
   "source": [
    "Testowanie modelu na pojedyńczych przykładach oraz ich wizualizacja."
   ]
  },
  {
   "cell_type": "code",
   "execution_count": 149,
   "metadata": {},
   "outputs": [
    {
     "name": "stdout",
     "output_type": "stream",
     "text": [
      "Prediction:  [7]\n",
      "Label:  7\n"
     ]
    },
    {
     "data": {
      "image/png": "[encoded data removed]",
      "text/plain": [
       "<Figure size 640x480 with 1 Axes>"
      ]
     },
     "metadata": {},
     "output_type": "display_data"
    },
    {
     "name": "stdout",
     "output_type": "stream",
     "text": [
      "Prediction:  [8]\n",
      "Label:  8\n"
     ]
    },
    {
     "data": {
      "image/png": "[encoded data removed]",
      "text/plain": [
       "<Figure size 640x480 with 1 Axes>"
      ]
     },
     "metadata": {},
     "output_type": "display_data"
    },
    {
     "name": "stdout",
     "output_type": "stream",
     "text": [
      "Prediction:  [2]\n",
      "Label:  2\n"
     ]
    },
    {
     "data": {
      "image/png": "[encoded data removed]",
      "text/plain": [
       "<Figure size 640x480 with 1 Axes>"
      ]
     },
     "metadata": {},
     "output_type": "display_data"
    }
   ],
   "source": [
    "test_prediction(6, W1, b1, W2, b2)\n",
    "test_prediction(5, W1, b1, W2, b2)\n",
    "test_prediction(50, W1, b1, W2, b2)"
   ]
  },
  {
   "cell_type": "markdown",
   "metadata": {},
   "source": [
    "Ciekawostka:\n",
    "\"Garbage in, garbage out\"\n",
    "Jeśli dane wejściowe (i etykiety) są błędne, model będzie również generować błędne wyniki."
   ]
  }
 ],
 "metadata": {
  "kernelspec": {
   "display_name": "Python 3",
   "language": "python",
   "name": "python3"
  },
  "language_info": {
   "codemirror_mode": {
    "name": "ipython",
    "version": 3
   },
   "file_extension": ".py",
   "mimetype": "text/x-python",
   "name": "python",
   "nbconvert_exporter": "python",
   "pygments_lexer": "ipython3",
   "version": "3.11.9"
  }
 },
 "nbformat": 4,
 "nbformat_minor": 2
}
