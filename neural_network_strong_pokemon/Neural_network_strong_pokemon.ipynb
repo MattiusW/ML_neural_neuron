{
 "cells": [
  {
   "cell_type": "code",
   "execution_count": 1,
   "metadata": {},
   "outputs": [],
   "source": [
    "import numpy as np\n",
    "import pandas as pd\n",
    "from matplotlib import pyplot as plt\n",
    "from random import shuffle"
   ]
  },
  {
   "cell_type": "code",
   "execution_count": 2,
   "metadata": {},
   "outputs": [],
   "source": [
    "csv_files = [\n",
    "    \"data/pokemon_rb_gen1.csv\",\n",
    "    \"data/pokemon_gs_gen2.csv\",\n",
    "    \"data/pokemon_rs_gen3.csv\",\n",
    "    \"data/pokemon_dp_gen4.csv\",\n",
    "    \"data/pokemon_bw_gen5.csv\",\n",
    "    \"data/pokemon_xy_gen6.csv\",\n",
    "    \"data/pokemon_sm_gen7.csv\",\n",
    "    \"data/pokemon_swsh_gen8.csv\",\n",
    "    \"data/pokemon_sv_gen9.csv\",\n",
    "]\n",
    "\n",
    "dataframes = []\n",
    "\n",
    "for i, file in enumerate(csv_files):\n",
    "    df = pd.read_csv(file)\n",
    "    df['Generation'] = i + 1\n",
    "    dataframes.append(df)\n",
    "\n",
    "combined_data = pd.concat(dataframes, ignore_index=True)\n",
    "\n",
    "combined_data.to_csv(\"all_pokemon_generation_data.csv\", index=False)"
   ]
  },
  {
   "cell_type": "markdown",
   "metadata": {},
   "source": [
    "Połączenie wszystkich generacji pokemonów."
   ]
  },
  {
   "cell_type": "code",
   "execution_count": 3,
   "metadata": {},
   "outputs": [],
   "source": [
    "data = pd.read_csv(\"all_pokemon_generation_data.csv\")\n",
    "data = data.drop_duplicates(subset='Name', keep='first')"
   ]
  },
  {
   "cell_type": "code",
   "execution_count": 4,
   "metadata": {},
   "outputs": [
    {
     "data": {
      "text/html": [
       "<div>\n",
       "<style scoped>\n",
       "    .dataframe tbody tr th:only-of-type {\n",
       "        vertical-align: middle;\n",
       "    }\n",
       "\n",
       "    .dataframe tbody tr th {\n",
       "        vertical-align: top;\n",
       "    }\n",
       "\n",
       "    .dataframe thead th {\n",
       "        text-align: right;\n",
       "    }\n",
       "</style>\n",
       "<table border=\"1\" class=\"dataframe\">\n",
       "  <thead>\n",
       "    <tr style=\"text-align: right;\">\n",
       "      <th></th>\n",
       "      <th>No</th>\n",
       "      <th>Name</th>\n",
       "      <th>Type</th>\n",
       "      <th>Abilities</th>\n",
       "      <th>HP</th>\n",
       "      <th>Att</th>\n",
       "      <th>Def</th>\n",
       "      <th>S.Att</th>\n",
       "      <th>S.Def</th>\n",
       "      <th>Spd</th>\n",
       "      <th>Generation</th>\n",
       "    </tr>\n",
       "  </thead>\n",
       "  <tbody>\n",
       "    <tr>\n",
       "      <th>0</th>\n",
       "      <td>10</td>\n",
       "      <td>Caterpie</td>\n",
       "      <td>bug</td>\n",
       "      <td>NaN</td>\n",
       "      <td>45</td>\n",
       "      <td>30</td>\n",
       "      <td>35</td>\n",
       "      <td>20</td>\n",
       "      <td>NaN</td>\n",
       "      <td>45</td>\n",
       "      <td>1</td>\n",
       "    </tr>\n",
       "    <tr>\n",
       "      <th>1</th>\n",
       "      <td>11</td>\n",
       "      <td>Metapod</td>\n",
       "      <td>bug</td>\n",
       "      <td>NaN</td>\n",
       "      <td>50</td>\n",
       "      <td>20</td>\n",
       "      <td>55</td>\n",
       "      <td>25</td>\n",
       "      <td>NaN</td>\n",
       "      <td>30</td>\n",
       "      <td>1</td>\n",
       "    </tr>\n",
       "    <tr>\n",
       "      <th>2</th>\n",
       "      <td>12</td>\n",
       "      <td>Butterfree</td>\n",
       "      <td>bug, flying</td>\n",
       "      <td>NaN</td>\n",
       "      <td>60</td>\n",
       "      <td>45</td>\n",
       "      <td>50</td>\n",
       "      <td>80</td>\n",
       "      <td>NaN</td>\n",
       "      <td>70</td>\n",
       "      <td>1</td>\n",
       "    </tr>\n",
       "    <tr>\n",
       "      <th>3</th>\n",
       "      <td>13</td>\n",
       "      <td>Weedle</td>\n",
       "      <td>bug, poison</td>\n",
       "      <td>NaN</td>\n",
       "      <td>40</td>\n",
       "      <td>35</td>\n",
       "      <td>30</td>\n",
       "      <td>20</td>\n",
       "      <td>NaN</td>\n",
       "      <td>50</td>\n",
       "      <td>1</td>\n",
       "    </tr>\n",
       "    <tr>\n",
       "      <th>4</th>\n",
       "      <td>14</td>\n",
       "      <td>Kakuna</td>\n",
       "      <td>bug, poison</td>\n",
       "      <td>NaN</td>\n",
       "      <td>45</td>\n",
       "      <td>25</td>\n",
       "      <td>50</td>\n",
       "      <td>25</td>\n",
       "      <td>NaN</td>\n",
       "      <td>35</td>\n",
       "      <td>1</td>\n",
       "    </tr>\n",
       "    <tr>\n",
       "      <th>...</th>\n",
       "      <td>...</td>\n",
       "      <td>...</td>\n",
       "      <td>...</td>\n",
       "      <td>...</td>\n",
       "      <td>...</td>\n",
       "      <td>...</td>\n",
       "      <td>...</td>\n",
       "      <td>...</td>\n",
       "      <td>...</td>\n",
       "      <td>...</td>\n",
       "      <td>...</td>\n",
       "    </tr>\n",
       "    <tr>\n",
       "      <th>8310</th>\n",
       "      <td>960</td>\n",
       "      <td>Wiglett</td>\n",
       "      <td>water</td>\n",
       "      <td>Gooey, Rattled, Sand Veil</td>\n",
       "      <td>10</td>\n",
       "      <td>55</td>\n",
       "      <td>25</td>\n",
       "      <td>35</td>\n",
       "      <td>25.0</td>\n",
       "      <td>95</td>\n",
       "      <td>9</td>\n",
       "    </tr>\n",
       "    <tr>\n",
       "      <th>8311</th>\n",
       "      <td>961</td>\n",
       "      <td>Wugtrio</td>\n",
       "      <td>water</td>\n",
       "      <td>Gooey, Rattled, Sand Veil</td>\n",
       "      <td>35</td>\n",
       "      <td>100</td>\n",
       "      <td>50</td>\n",
       "      <td>50</td>\n",
       "      <td>70.0</td>\n",
       "      <td>120</td>\n",
       "      <td>9</td>\n",
       "    </tr>\n",
       "    <tr>\n",
       "      <th>8312</th>\n",
       "      <td>963</td>\n",
       "      <td>Finizen</td>\n",
       "      <td>water</td>\n",
       "      <td>Water Veil</td>\n",
       "      <td>70</td>\n",
       "      <td>45</td>\n",
       "      <td>40</td>\n",
       "      <td>45</td>\n",
       "      <td>40.0</td>\n",
       "      <td>75</td>\n",
       "      <td>9</td>\n",
       "    </tr>\n",
       "    <tr>\n",
       "      <th>8313</th>\n",
       "      <td>964</td>\n",
       "      <td>Palafin</td>\n",
       "      <td>water</td>\n",
       "      <td>Zero to Hero</td>\n",
       "      <td>100</td>\n",
       "      <td>70</td>\n",
       "      <td>72</td>\n",
       "      <td>53</td>\n",
       "      <td>62.0</td>\n",
       "      <td>100</td>\n",
       "      <td>9</td>\n",
       "    </tr>\n",
       "    <tr>\n",
       "      <th>8316</th>\n",
       "      <td>977</td>\n",
       "      <td>Dondozo</td>\n",
       "      <td>water</td>\n",
       "      <td>Unaware, Oblivious, Water Veil</td>\n",
       "      <td>150</td>\n",
       "      <td>100</td>\n",
       "      <td>115</td>\n",
       "      <td>65</td>\n",
       "      <td>65.0</td>\n",
       "      <td>35</td>\n",
       "      <td>9</td>\n",
       "    </tr>\n",
       "  </tbody>\n",
       "</table>\n",
       "<p>1028 rows × 11 columns</p>\n",
       "</div>"
      ],
      "text/plain": [
       "       No        Name         Type                       Abilities   HP  Att  \\\n",
       "0      10    Caterpie          bug                             NaN   45   30   \n",
       "1      11     Metapod          bug                             NaN   50   20   \n",
       "2      12  Butterfree  bug, flying                             NaN   60   45   \n",
       "3      13      Weedle  bug, poison                             NaN   40   35   \n",
       "4      14      Kakuna  bug, poison                             NaN   45   25   \n",
       "...   ...         ...          ...                             ...  ...  ...   \n",
       "8310  960     Wiglett        water       Gooey, Rattled, Sand Veil   10   55   \n",
       "8311  961     Wugtrio        water       Gooey, Rattled, Sand Veil   35  100   \n",
       "8312  963     Finizen        water                      Water Veil   70   45   \n",
       "8313  964     Palafin        water                    Zero to Hero  100   70   \n",
       "8316  977     Dondozo        water  Unaware, Oblivious, Water Veil  150  100   \n",
       "\n",
       "      Def  S.Att  S.Def  Spd  Generation  \n",
       "0      35     20    NaN   45           1  \n",
       "1      55     25    NaN   30           1  \n",
       "2      50     80    NaN   70           1  \n",
       "3      30     20    NaN   50           1  \n",
       "4      50     25    NaN   35           1  \n",
       "...   ...    ...    ...  ...         ...  \n",
       "8310   25     35   25.0   95           9  \n",
       "8311   50     50   70.0  120           9  \n",
       "8312   40     45   40.0   75           9  \n",
       "8313   72     53   62.0  100           9  \n",
       "8316  115     65   65.0   35           9  \n",
       "\n",
       "[1028 rows x 11 columns]"
      ]
     },
     "execution_count": 4,
     "metadata": {},
     "output_type": "execute_result"
    }
   ],
   "source": [
    "data.head(5000)"
   ]
  },
  {
   "cell_type": "markdown",
   "metadata": {},
   "source": [
    "Póżniejsze generacje pokemonów mają kolumne speed defense oraz nazwę specjalnych umiejętności. Myślę, że specjalne umiejętności nie będą potrzebne w tym przypadku ponieważ nie jestem w stanie stwierdzić jak działają i jaką mają moc w jaki sposób mogą wpłynąć na przewidywania wyników. Oczywiście, specjalna umiejętność znacząco wpływa na siłe pokemona, jednak nie posiadam danych dotyczących siły tej umiejętności."
   ]
  },
  {
   "cell_type": "code",
   "execution_count": 5,
   "metadata": {},
   "outputs": [],
   "source": [
    "X = data[['HP', 'Att', 'Def', 'S.Att', 'S.Def', 'Spd']].values\n",
    "X = X / X.max(axis=0) # Normalizacja\n",
    "\n",
    "Y = data[['HP', 'Att', 'Def', 'S.Att', 'S.Def', 'Spd']].sum(axis=1).values\n",
    "Y = (Y > np.percentile(Y, 75)).astype(int)"
   ]
  },
  {
   "cell_type": "markdown",
   "metadata": {},
   "source": [
    "Normalizacja i podział pokemonów zero jedynkowo na silne (1) i słabe (0)."
   ]
  },
  {
   "cell_type": "code",
   "execution_count": 6,
   "metadata": {},
   "outputs": [],
   "source": [
    "data = data.drop(columns='Abilities')"
   ]
  },
  {
   "cell_type": "markdown",
   "metadata": {},
   "source": [
    "Usunięcie kolumny abillites. Zdecydowałem się na usunięcie tej kolumny ponieważ należało by zgłębić każdą poszczególną umiejętność aby móc ocenić jej dodatkową siłe co pomogło by w lepszym przewidywaniu modelu. "
   ]
  },
  {
   "cell_type": "code",
   "execution_count": 7,
   "metadata": {},
   "outputs": [],
   "source": [
    "data['S.Def'] = data['S.Def'].fillna(data['S.Def'].mean())\n",
    "data['S.Def_missing'] = data['S.Def'].isna().astype(int)"
   ]
  },
  {
   "cell_type": "markdown",
   "metadata": {},
   "source": [
    "Wypełnienie brakujących wartości medianą wszytkich S.Def pokemonów oraz ustawienie flagi aby model mógł uczyć się, że dane zostały wypełnione."
   ]
  },
  {
   "cell_type": "code",
   "execution_count": 8,
   "metadata": {},
   "outputs": [],
   "source": [
    "data = data.sample(frac=1, random_state=42).reset_index(drop=True)\n"
   ]
  },
  {
   "cell_type": "markdown",
   "metadata": {},
   "source": [
    "Przetasowanie danych."
   ]
  },
  {
   "cell_type": "code",
   "execution_count": 9,
   "metadata": {},
   "outputs": [],
   "source": [
    "def init_params():\n",
    "    W1 = np.random.rand(10, 6) - 0.5 # zmiana na 6 cech wejściowych\n",
    "    b1 = np.random.rand(10, 1) - 0.5\n",
    "    W2 = np.random.rand(2, 10) - 0.5 # wejście: 2 klasy (słaby, silny)\n",
    "    b2 = np.random.rand(2, 1) - 0.5\n",
    "\n",
    "    return W1, b1, W2, b2\n",
    "\n",
    "def ReLU(Z):\n",
    "    return np.maximum(0, Z)\n",
    "\n",
    "def softmax(Z):\n",
    "    A = np.exp(Z) / sum(np.exp(Z))\n",
    "    return A\n",
    "\n",
    "def forward_prop(W1, b1, W2, b2, X):\n",
    "    Z1 = W1.dot(X) + b1\n",
    "    A1 = ReLU(Z1)\n",
    "    Z2 = W2.dot(A1) + b2\n",
    "    A2 = softmax(Z2)\n",
    "\n",
    "    return Z1, A1, Z2, A2\n",
    "\n",
    "def one_hot(Y):\n",
    "    one_hot_Y = np.zeros((Y.size, Y.max() + 1))\n",
    "    one_hot_Y[np.arange(Y.size), Y] = 1\n",
    "    one_hot_Y = one_hot_Y.T\n",
    "    return one_hot_Y\n",
    "\n",
    "def deriv_ReLu(Z):\n",
    "    return Z > 0\n",
    "\n",
    "def backward_prop(Z1, A1, Z2, A2, W1, W2, X, Y, m):\n",
    "    one_hot_Y = one_hot(Y)\n",
    "    dZ2 = A2 - one_hot_Y\n",
    "    dW2 = 1 / m * dZ2.dot(A1.T)\n",
    "    db2 = 1 / m * np.sum(dZ2, axis=1, keepdims=True)\n",
    "    dZ1 = W2.T.dot(dZ2) * deriv_ReLu(Z1)\n",
    "    dW1 = 1 / m * dZ1.dot(X.T)\n",
    "    db1 = 1 / m * np.sum(dZ1, axis=1, keepdims=True)\n",
    "\n",
    "    return dW1, db1, dW2, db2\n",
    "\n",
    "def update_params(W1, b1, W2, b2, dW1, db1, dW2, db2, alpha):\n",
    "    W1 = W1 - alpha * dW1\n",
    "    b1 = b1 - alpha * db1\n",
    "    W2 = W2 - alpha * dW2\n",
    "    b2 = b2 - alpha * db2\n",
    "\n",
    "    return W1, b1, W2, b2"
   ]
  },
  {
   "cell_type": "markdown",
   "metadata": {},
   "source": [
    "Algorytm sieci neuronowych zawierający inicjalizacje parametrów, propagację w przód, one-hot encoding etykiet i propagację wstecz i aktualizacje wag."
   ]
  },
  {
   "cell_type": "code",
   "execution_count": 10,
   "metadata": {},
   "outputs": [],
   "source": [
    "def get_predictions(A2):\n",
    "    return np.argmax(A2, 0)\n",
    "\n",
    "def get_accuracy(predictions, Y):\n",
    "    print(predictions, Y)\n",
    "    return np.sum(predictions == Y) / Y.size\n",
    "\n",
    "def gradient_descent(X, Y, alpha, iterations):\n",
    "    W1, b1, W2, b2 = init_params()\n",
    "    m = X.shape[1] # Liczna przykładów\n",
    "    for i in range(iterations):\n",
    "        Z1, A1, Z2, A2 = forward_prop(W1, b1, W2, b2, X)\n",
    "        dW1, db1, dW2, db2 = backward_prop(Z1, A1, Z2, A2, W1, W2, X, Y, m)\n",
    "        W1, b1, W2, b2 = update_params(W1, b1, W2, b2, dW1, db1, dW2, db2, alpha)\n",
    "        if i % 1000 == 0:\n",
    "            print(\"Iteration: \", i)\n",
    "            predictions = get_predictions(A2)\n",
    "            print(get_accuracy(predictions, Y))\n",
    "    return W1, b1, W2, b2"
   ]
  },
  {
   "cell_type": "markdown",
   "metadata": {},
   "source": [
    "Trening modelu poprzez algorytm iteracji parametrów w celu zmiejszenia błedu poprawy przewidywań, uaktualniania parametrów oraz śledzenia postępów uczenia się oraz precyzji."
   ]
  },
  {
   "cell_type": "code",
   "execution_count": 11,
   "metadata": {},
   "outputs": [
    {
     "name": "stdout",
     "output_type": "stream",
     "text": [
      "Iteration:  0\n",
      "[0 0 0 ... 0 0 0] [0 0 0 ... 0 0 1]\n",
      "0.7558365758754864\n",
      "Iteration:  1000\n",
      "[0 0 0 ... 0 0 0] [0 0 0 ... 0 0 1]\n",
      "0.7558365758754864\n",
      "Iteration:  2000\n",
      "[0 0 0 ... 0 0 0] [0 0 0 ... 0 0 1]\n",
      "0.7558365758754864\n",
      "Iteration:  3000\n",
      "[0 0 0 ... 0 0 0] [0 0 0 ... 0 0 1]\n",
      "0.7558365758754864\n",
      "Iteration:  4000\n",
      "[0 0 0 ... 0 0 0] [0 0 0 ... 0 0 1]\n",
      "0.7558365758754864\n",
      "Iteration:  5000\n",
      "[0 0 0 ... 0 0 0] [0 0 0 ... 0 0 1]\n",
      "0.7558365758754864\n",
      "Iteration:  6000\n",
      "[0 0 0 ... 0 0 0] [0 0 0 ... 0 0 1]\n",
      "0.7558365758754864\n",
      "Iteration:  7000\n",
      "[0 0 0 ... 0 0 0] [0 0 0 ... 0 0 1]\n",
      "0.7558365758754864\n",
      "Iteration:  8000\n",
      "[0 0 0 ... 0 0 0] [0 0 0 ... 0 0 1]\n",
      "0.7558365758754864\n",
      "Iteration:  9000\n",
      "[0 0 0 ... 0 0 0] [0 0 0 ... 0 0 1]\n",
      "0.7558365758754864\n"
     ]
    }
   ],
   "source": [
    "W1, b1, W2, b2 = gradient_descent(X.T, Y, alpha=0.1, iterations=10000)"
   ]
  },
  {
   "cell_type": "code",
   "execution_count": 12,
   "metadata": {},
   "outputs": [],
   "source": [
    "def make_predictions(X, W1, b1, W2, b2):\n",
    "    _, _, _, A2 = forward_prop(W1, b1, W2, b2, X)\n",
    "    predictions = get_predictions(A2)\n",
    "    return predictions\n",
    "\n",
    "def strongest_pokemon(X, data, W1, b1, W2, b2):\n",
    "    predictions = make_predictions(X.T, W1, b1, W2, b2)\n",
    "    strongest_idx = np.argmax(predictions)\n",
    "    print(\"Najsilniejszy Pokemon: \", data.iloc[strongest_idx]['Name'])\n",
    "    print(data.iloc[strongest_idx])"
   ]
  },
  {
   "cell_type": "code",
   "execution_count": 13,
   "metadata": {},
   "outputs": [
    {
     "name": "stdout",
     "output_type": "stream",
     "text": [
      "Najsilniejszy Pokemon:  Heatran\n",
      "No                       485\n",
      "Name                 Heatran\n",
      "Type             fire, steel\n",
      "HP                        91\n",
      "Att                       90\n",
      "Def                      106\n",
      "S.Att                    130\n",
      "S.Def                  106.0\n",
      "Spd                       77\n",
      "Generation                 4\n",
      "S.Def_missing              0\n",
      "Name: 0, dtype: object\n"
     ]
    }
   ],
   "source": [
    "strongest_pokemon(X, data, W1, b1, W2, b2)"
   ]
  },
  {
   "cell_type": "code",
   "execution_count": 14,
   "metadata": {},
   "outputs": [
    {
     "data": {
      "text/html": [
       "<div>\n",
       "<style scoped>\n",
       "    .dataframe tbody tr th:only-of-type {\n",
       "        vertical-align: middle;\n",
       "    }\n",
       "\n",
       "    .dataframe tbody tr th {\n",
       "        vertical-align: top;\n",
       "    }\n",
       "\n",
       "    .dataframe thead th {\n",
       "        text-align: right;\n",
       "    }\n",
       "</style>\n",
       "<table border=\"1\" class=\"dataframe\">\n",
       "  <thead>\n",
       "    <tr style=\"text-align: right;\">\n",
       "      <th></th>\n",
       "      <th>No</th>\n",
       "      <th>Name</th>\n",
       "      <th>Type</th>\n",
       "      <th>HP</th>\n",
       "      <th>Att</th>\n",
       "      <th>Def</th>\n",
       "      <th>S.Att</th>\n",
       "      <th>S.Def</th>\n",
       "      <th>Spd</th>\n",
       "      <th>Generation</th>\n",
       "      <th>S.Def_missing</th>\n",
       "    </tr>\n",
       "  </thead>\n",
       "  <tbody>\n",
       "    <tr>\n",
       "      <th>0</th>\n",
       "      <td>485</td>\n",
       "      <td>Heatran</td>\n",
       "      <td>fire, steel</td>\n",
       "      <td>91</td>\n",
       "      <td>90</td>\n",
       "      <td>106</td>\n",
       "      <td>130</td>\n",
       "      <td>106.0</td>\n",
       "      <td>77</td>\n",
       "      <td>4</td>\n",
       "      <td>0</td>\n",
       "    </tr>\n",
       "  </tbody>\n",
       "</table>\n",
       "</div>"
      ],
      "text/plain": [
       "    No     Name         Type  HP  Att  Def  S.Att  S.Def  Spd  Generation  \\\n",
       "0  485  Heatran  fire, steel  91   90  106    130  106.0   77           4   \n",
       "\n",
       "   S.Def_missing  \n",
       "0              0  "
      ]
     },
     "execution_count": 14,
     "metadata": {},
     "output_type": "execute_result"
    }
   ],
   "source": [
    "data.head(1)"
   ]
  },
  {
   "cell_type": "code",
   "execution_count": 15,
   "metadata": {},
   "outputs": [
    {
     "data": {
      "text/html": [
       "<div>\n",
       "<style scoped>\n",
       "    .dataframe tbody tr th:only-of-type {\n",
       "        vertical-align: middle;\n",
       "    }\n",
       "\n",
       "    .dataframe tbody tr th {\n",
       "        vertical-align: top;\n",
       "    }\n",
       "\n",
       "    .dataframe thead th {\n",
       "        text-align: right;\n",
       "    }\n",
       "</style>\n",
       "<table border=\"1\" class=\"dataframe\">\n",
       "  <thead>\n",
       "    <tr style=\"text-align: right;\">\n",
       "      <th></th>\n",
       "      <th>No</th>\n",
       "      <th>Name</th>\n",
       "      <th>Type</th>\n",
       "      <th>HP</th>\n",
       "      <th>Att</th>\n",
       "      <th>Def</th>\n",
       "      <th>S.Att</th>\n",
       "      <th>S.Def</th>\n",
       "      <th>Spd</th>\n",
       "      <th>Generation</th>\n",
       "      <th>S.Def_missing</th>\n",
       "    </tr>\n",
       "  </thead>\n",
       "  <tbody>\n",
       "    <tr>\n",
       "      <th>135</th>\n",
       "      <td>493</td>\n",
       "      <td>Arceus</td>\n",
       "      <td>bug</td>\n",
       "      <td>120</td>\n",
       "      <td>120</td>\n",
       "      <td>120</td>\n",
       "      <td>120</td>\n",
       "      <td>120.0</td>\n",
       "      <td>120</td>\n",
       "      <td>4</td>\n",
       "      <td>0</td>\n",
       "    </tr>\n",
       "  </tbody>\n",
       "</table>\n",
       "</div>"
      ],
      "text/plain": [
       "      No    Name Type   HP  Att  Def  S.Att  S.Def  Spd  Generation  \\\n",
       "135  493  Arceus  bug  120  120  120    120  120.0  120           4   \n",
       "\n",
       "     S.Def_missing  \n",
       "135              0  "
      ]
     },
     "execution_count": 15,
     "metadata": {},
     "output_type": "execute_result"
    }
   ],
   "source": [
    "data.loc[data['Name']=='Arceus']"
   ]
  },
  {
   "cell_type": "markdown",
   "metadata": {},
   "source": [
    "Model pokazuje błędnie. Model pokazuje po prostu pierwszy wylosowany rekord. Najsilniejszym pokemonem w całym uniwersum jest Arceus, zresztą nawet jego suma statystyk mówi sama za siebie. "
   ]
  }
 ],
 "metadata": {
  "kernelspec": {
   "display_name": "Python 3",
   "language": "python",
   "name": "python3"
  },
  "language_info": {
   "codemirror_mode": {
    "name": "ipython",
    "version": 3
   },
   "file_extension": ".py",
   "mimetype": "text/x-python",
   "name": "python",
   "nbconvert_exporter": "python",
   "pygments_lexer": "ipython3",
   "version": "3.11.9"
  }
 },
 "nbformat": 4,
 "nbformat_minor": 2
}
